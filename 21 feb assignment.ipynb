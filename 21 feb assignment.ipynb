{
 "cells": [
  {
   "cell_type": "markdown",
   "id": "72d21154-3344-4374-bb0a-fa5a352c90b4",
   "metadata": {},
   "source": [
    "Q1)\n",
    "\n",
    "Web scrapping is a process of extracting content from the website.\n",
    "It is used to store web based content in the system in efficient and fast way.\n",
    "Three area where web scrapping is used to get data are:\n",
    "i) Online shopping \n",
    "ii) Digital marketing\n",
    "iii) Data analysis"
   ]
  },
  {
   "cell_type": "markdown",
   "id": "45bab54e-773b-4f8d-a51b-9e5812c523bf",
   "metadata": {},
   "source": [
    "Q2)\n",
    "\n",
    "Different methods are HTML parsing , DOM parsing, Vertical aggregation etc."
   ]
  },
  {
   "cell_type": "markdown",
   "id": "1c6ad903-f995-4068-aac7-ff5bd01d928f",
   "metadata": {},
   "source": [
    "Q3)\n",
    "\n",
    "BEautiful soup is a command used to arrange the URL and HTML codes in a beautiful manner.\n"
   ]
  },
  {
   "cell_type": "markdown",
   "id": "4d96b846-2c45-408d-b3d0-dcd856bf9cbb",
   "metadata": {},
   "source": [
    "Q4)"
   ]
  },
  {
   "cell_type": "markdown",
   "id": "a17dea80-f057-4898-a03e-613e3c7fc336",
   "metadata": {},
   "source": [
    "AS we know flask is lightweighted framework used to deploy collected data and form new HTML website.  "
   ]
  },
  {
   "cell_type": "markdown",
   "id": "eebd8723-4f0b-49fc-a446-ade909dd7fde",
   "metadata": {},
   "source": [
    "Q5)\n",
    "\n",
    "AWS service used in this process are:\n",
    "\n",
    "AWS BAtch is a free of cost service that allow you to configure environment and resources needed for a task execution.\n",
    "AWS LAmbda is another good way to set p  scripts to run by demand.\n",
    "    "
   ]
  },
  {
   "cell_type": "code",
   "execution_count": null,
   "id": "d811ad7a-770e-437c-aae3-86ece20cf75d",
   "metadata": {},
   "outputs": [],
   "source": []
  }
 ],
 "metadata": {
  "kernelspec": {
   "display_name": "Python 3 (ipykernel)",
   "language": "python",
   "name": "python3"
  },
  "language_info": {
   "codemirror_mode": {
    "name": "ipython",
    "version": 3
   },
   "file_extension": ".py",
   "mimetype": "text/x-python",
   "name": "python",
   "nbconvert_exporter": "python",
   "pygments_lexer": "ipython3",
   "version": "3.10.8"
  }
 },
 "nbformat": 4,
 "nbformat_minor": 5
}
